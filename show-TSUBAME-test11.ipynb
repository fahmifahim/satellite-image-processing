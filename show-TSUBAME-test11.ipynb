from tsubame import *
import matplotlib.pyplot as plt
%matplotlib inline

# Tsubame Scenes 
tsubame_scenes = filter_by_date(get_tsubame_scene(20.425278, 122.933611, 45.557222, 153.986389), datetime(2019, 4, 10, tzinfo=timezone.utc), datetime(2019, 5, 11, tzinfo=timezone.utc))
print("Number scenes:",len(tsubame_scenes))

observation_areas = [
    {
        "name":"東京駅",
        "lat": 35.6812362,
        "lon": 139.7649361
    },
    {
        "name":"新宿駅",
        "lat": 35.689607,
        "lon": 139.700571
    },
    {
        "name":"国会議事堂",
        "lat": 35.675888,
        "lon": 139.7426693
    }
]

classified_scenes = classify(observation_areas, tsubame_scenes)
tokyo_scenes = classified_scenes[0]
shinjuku_scenes = classified_scenes[1]
kokkai_scenes = classified_scenes[2]
print("東京駅-TSUBAME：",len(tokyo_scenes))
print("新宿駅-TSUBAME：",len(shinjuku_scenes))
print("国会議事堂-TSUBAME：",len(kokkai_scenes))

for scene in kokkai_scenes:
    print(scene["acquisitionDate"])
    

#zoom=18
#xtile=232839 #東京駅周辺x-18
#ytile=103225 #東京駅周辺y-18

zoom=18
xtile=232831 #国会議事堂x-18
ytile=103230 #国会議事堂7-18

#zoom=17 
#xtile=116415 #国会議事堂x-17
#ytile=51615 #国会議事堂y-17

tsubame_image = get_tsubame_image(kokkai_scenes[1]["entityId"], zoom, xtile, ytile)
io.imshow(tsubame_image)

zoom = 18
topleft_x = 232830 #国会議事堂topx-18
topleft_y = 103229 #国会議事堂topy-18
size_x = 3
size_y = 3
tsubame_series_image = get_tsubame_series_image(kokkai_scenes[1]["entityId"], zoom, topleft_x, topleft_y, size_x, size_y)
io.imshow(tsubame_series_image)

imgs = [get_tsubame_series_image(scene["entityId"], zoom, topleft_x, topleft_y, size_x, size_y) for scene in kokkai_scenes]
plt.rcParams["figure.figsize"] = (12, 12)
io.imshow(make_grid_image(imgs, 4))

